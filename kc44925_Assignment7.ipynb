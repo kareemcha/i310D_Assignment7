{
 "cells": [
  {
   "cell_type": "markdown",
   "id": "73ac84a3",
   "metadata": {},
   "source": [
    "# Same Sex Marriage Around the World"
   ]
  },
  {
   "cell_type": "markdown",
   "id": "8bdf92b1",
   "metadata": {},
   "source": [
    "## Step 1: Data Extraction"
   ]
  },
  {
   "cell_type": "markdown",
   "id": "9149038b",
   "metadata": {},
   "source": [
    "## Step 2: Data Transformation and Load"
   ]
  },
  {
   "cell_type": "markdown",
   "id": "982c163d",
   "metadata": {},
   "source": [
    "## Step 3: Analysis: Summary and visualizations"
   ]
  },
  {
   "cell_type": "markdown",
   "id": "847ed2c0",
   "metadata": {},
   "source": [
    "## Step 4: Documentation"
   ]
  }
 ],
 "metadata": {
  "kernelspec": {
   "display_name": "Python 3 (ipykernel)",
   "language": "python",
   "name": "python3"
  },
  "language_info": {
   "codemirror_mode": {
    "name": "ipython",
    "version": 3
   },
   "file_extension": ".py",
   "mimetype": "text/x-python",
   "name": "python",
   "nbconvert_exporter": "python",
   "pygments_lexer": "ipython3",
   "version": "3.8.16"
  }
 },
 "nbformat": 4,
 "nbformat_minor": 5
}
