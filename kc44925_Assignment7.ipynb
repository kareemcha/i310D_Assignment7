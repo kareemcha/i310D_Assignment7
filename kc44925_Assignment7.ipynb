{
 "cells": [
  {
   "cell_type": "markdown",
   "id": "93f4ef8b",
   "metadata": {},
   "source": [
    "# Same Sex Marriage Around the World"
   ]
  },
  {
   "cell_type": "markdown",
   "id": "8492ede7",
   "metadata": {},
   "source": [
    "## Step 1: Data Extraction"
   ]
  },
  {
   "cell_type": "code",
   "execution_count": 69,
   "id": "de9b73ab",
   "metadata": {},
   "outputs": [
    {
     "name": "stdout",
     "output_type": "stream",
     "text": [
      "BeautifulSoup and Pandas are already installed and imported\n"
     ]
    }
   ],
   "source": [
    "import wikipediaapi\n",
    "try:\n",
    "    from bs4 import BeautifulSoup\n",
    "    import pandas \n",
    "    print (\"BeautifulSoup and Pandas are already installed and imported\")\n",
    "except:\n",
    "    import sys\n",
    "    !pip install bs4\n",
    "    !pip install pandas\n",
    "    from bs4 import BeautifulSoup\n",
    "    import pandas\n",
    "    print (\"BeautifulSoup and Pandas were not found. Installed them and imported\")\n",
    "import requests"
   ]
  },
  {
   "cell_type": "code",
   "execution_count": 82,
   "id": "f08e1ff0",
   "metadata": {},
   "outputs": [
    {
     "name": "stdout",
     "output_type": "stream",
     "text": [
      "Webpage opened successfully...\n",
      "Webpage loaded and parsed successfully...\n"
     ]
    }
   ],
   "source": [
    "opened_webpage = requests.get(\"https://en.wikipedia.org/wiki/Same-sex_marriage#Public_opinion\")\n",
    "print (\"Webpage opened successfully...\")\n",
    "\n",
    "# Initialize a BeautifulSoup object to read and parse the webpage read\n",
    "# This is like calling the __init__ function in BeautifulSoup\n",
    "bs = BeautifulSoup(opened_webpage.content, \"html.parser\")\n",
    "print (\"Webpage loaded and parsed successfully...\")\n",
    "\n"
   ]
  },
  {
   "cell_type": "code",
   "execution_count": 160,
   "id": "7ed5b35b",
   "metadata": {},
   "outputs": [
    {
     "name": "stdout",
     "output_type": "stream",
     "text": [
      "[\"\\n\\nCountry\\n\\nPollster\\n\\nYear\\n\\nFor[n]\\n\\nAgainst[n]\\n\\nNeither[o]\\n\\nMarginof error\\n\\nSource\\n\\n\\n Andorra\\n\\nInstitut d'Estudis Andorrans\\n\\n2013\\n\\n70%(79%)\\n\\n19%(21%)\\n\\n11%\\n\\n\\n\\n[159]\\n\\n\\n Antigua and Barbuda\\n\\nAmericasBarometer\\n\\n2017\\n\\n12%\\n\\n–\\n\\n–\\n\\n\\n\\n[160]\\n\\n\\n Argentina\\n\\nIpsos\\n\\n2021\\n\\n73%(79%)\\n\\n19% [9% support some rights](21%)\\n\\n9% not sure\\n\\n±4.8%\\n\\n[161]\\n\\n\\n Armenia\\n\\nPew Research Center\\n\\n2015\\n\\n3%(3%)\\n\\n96%(97%)\\n\\n1%\\n\\n±3%\\n\\n[162][163]\\n\\n\\n Aruba\\n\\n\\n\\n2021\\n\\n46%\\n\\n\\n\\n\\n\\n\\n\\n[164]\\n\\n\\n Australia\\n\\nIpsos\\n\\n2021\\n\\n62%(70%)\\n\\n27% [14% support some rights](30%)\\n\\n11% not sure\\n\\n±3.5%\\n\\n[161]\\n\\n\\n Austria\\n\\nEurobarometer\\n\\n2019\\n\\n66%(69%)\\n\\n30%(31%)\\n\\n4%\\n\\n\\n\\n[165]\\n\\n\\n Bahamas\\n\\nAmericasBarometer\\n\\n2015\\n\\n11%\\n\\n–\\n\\n–\\n\\n\\n\\n[166]\\n\\n\\n Belarus\\n\\nPew Research Center\\n\\n2015\\n\\n16%(16%)\\n\\n81%(84%)\\n\\n3%\\n\\n±4%\\n\\n[162][163]\\n\\n\\n Belgium\\n\\nIpsos\\n\\n2021\\n\\n72%(79%)\\n\\n19% [12% support some rights](21%)\\n\\n10% not sure\\n\\n±3.5%\\n\\n[161]\\n\\n\\n Belize\\n\\nAmericasBarometer\\n\\n2014\\n\\n8%\\n\\n–\\n\\n–\\n\\n\\n\\n[166]\\n\\n\\n Bolivia\\n\\nAmericasBarometer\\n\\n2017\\n\\n35%\\n\\n65%\\n\\n–\\n\\n±1.0%\\n\\n[160]\\n\\n\\n Bosnia and Herzegovina\\n\\nPew Research Center\\n\\n2015–2016\\n\\n13%(14%)\\n\\n84%(87%)\\n\\n4%\\n\\n±4%\\n\\n[162][163]\\n\\n\\n Brazil\\n\\nIpsos\\n\\n2021\\n\\n55%(63%)\\n\\n32% [14% support some rights](37%)\\n\\n14% not sure\\n\\n±3.5% [p]\\n\\n[161]\\n\\n\\n Bulgaria\\n\\nEurobarometer\\n\\n2019\\n\\n16%(18%)\\n\\n74%(82%)\\n\\n10%\\n\\n\\n\\n[165]\\n\\n\\n Cambodia\\n\\nTNS Cambodia\\n\\n2015\\n\\n55%(65%)\\n\\n30%(35%)\\n\\n15%\\n\\n\\n\\n[167]\\n\\n\\n Canada\\n\\nIpsos\\n\\n2021\\n\\n75%(85%)\\n\\n15% [7% support some rights](15%)\\n\\n10% not sure\\n\\n±3.5%\\n\\n[161]\\n\\n\\n Chile\\n\\nPlaza Pública-Cadem\\n\\n2022\\n\\n82%\\n\\n16%\\n\\n2%\\n\\n±3.7%\\n\\n[168]\\n\\n\\nIpsos\\n\\n2021\\n\\n65%(72%)\\n\\n25% [17% support some rights](28%)\\n\\n11% not sure\\n\\n±4.8% [p]\\n\\n[161]\\n\\n\\n China\\n\\nIpsos\\n\\n2021\\n\\n43%(52%)\\n\\n39% [20% support some rights](48%)\\n\\n18% not sure\\n\\n±3.5% [p]\\n\\n[161]\\n\\n\\n Colombia\\n\\nINVAMER-POLL\\n\\n2022\\n\\n48%\\n\\n46%\\n\\n6%\\n\\n\\n\\n[169]\\n\\n\\n Costa Rica\\n\\nAmericasBarometer\\n\\n2017\\n\\n35%\\n\\n65%\\n\\n–\\n\\n±1.2%\\n\\n[166]\\n\\n\\n Croatia\\n\\nEurobarometer\\n\\n2019\\n\\n39%(41%)\\n\\n55%(59%)\\n\\n6%\\n\\n\\n\\n[165]\\n\\n\\n Cuba\\n\\nApretaste\\n\\n2019\\n\\n63%\\n\\n37%\\n\\n–\\n\\n\\n\\n[170]\\n\\n\\n Cyprus\\n\\nEurobarometer\\n\\n2019\\n\\n36%(38%)\\n\\n60%(62%)\\n\\n4%\\n\\n\\n\\n[165]\\n\\n\\n Czech Republic\\n\\nMedian agency\\n\\n2019\\n\\n67%\\n\\n–\\n\\n–\\n\\n\\n\\n[171]\\n\\n\\n Denmark\\n\\nEurobarometer\\n\\n2019\\n\\n89%(92%)\\n\\n8%(8%)\\n\\n3%\\n\\n\\n\\n[165]\\n\\n\\n Dominica\\n\\nAmericasBarometer\\n\\n2017\\n\\n10%\\n\\n90%\\n\\n–\\n\\n±1.1%\\n\\n[160]\\n\\n\\n Dominican Republic\\n\\nAmericasBarometer\\n\\n2016\\n\\n27%\\n\\n73%\\n\\n–\\n\\n±1.0%\\n\\n[160]\\n\\n\\n Ecuador\\n\\nAmericasBarometer\\n\\n2019\\n\\n23%(31%)\\n\\n51%(69%)\\n\\n26%\\n\\n\\n\\n[172]\\n\\n\\n El Salvador\\n\\nUniversidad Francisco Gavidia\\n\\n2021\\n\\n\\n\\n82.5%\\n\\n–\\n\\n\\n\\n[173]\\n\\n\\n Estonia\\n\\nEurobarometer\\n\\n2019\\n\\n41%(45%)\\n\\n51%(55%)\\n\\n8%\\n\\n\\n\\n[165]\\n\\n\\n Finland\\n\\nEurobarometer\\n\\n2019\\n\\n76%(78%)\\n\\n21%(22%)\\n\\n3%\\n\\n\\n\\n[165]\\n\\n\\n France\\n\\nIpsos\\n\\n2021\\n\\n59%(73%)\\n\\n22% [15% support some rights](27%)\\n\\n19% not sure\\n\\n±3.5%\\n\\n[161]\\n\\n\\nEurobarometer\\n\\n2019\\n\\n79%(84%)\\n\\n15%(16%)\\n\\n6%\\n\\n\\n\\n[165]\\n\\n\\n Georgia\\n\\nWomen’s Initiatives Supporting Group\\n\\n2021\\n\\n10%(12%)\\n\\n75%(88%)\\n\\n15%\\n\\n\\n\\n[174]\\n\\n\\n Germany\\n\\nIpsos\\n\\n2021\\n\\n68%(75%)\\n\\n23% [13% support some rights](25%)\\n\\n9% not sure\\n\\n±3.5%\\n\\n[161]\\n\\n\\nEurobarometer\\n\\n2019\\n\\n84%(88%)\\n\\n12%(12%)\\n\\n4%\\n\\n\\n\\n[165]\\n\\n\\n Greece\\n\\nKapa Research\\n\\n2020\\n\\n56%(58%)\\n\\n40%(42%)\\n\\n4%\\n\\n±3%\\n\\n[175]\\n\\n\\n Grenada\\n\\nAmericasBarometer\\n\\n2017\\n\\n12%\\n\\n88%\\n\\n–\\n\\n±1.4%\\n\\n[160]\\n\\n\\n Guatemala\\n\\nAmericasBarometer\\n\\n2017\\n\\n23%\\n\\n77%\\n\\n–\\n\\n±1.1%\\n\\n[160]\\n\\n\\n Guyana\\n\\nAmericasBarometer\\n\\n2017\\n\\n21%\\n\\n79%\\n\\n–\\n\\n±1.3%\\n\\n[166]\\n\\n\\n Haiti\\n\\nAmericasBarometer\\n\\n2017\\n\\n5%\\n\\n95%\\n\\n–\\n\\n±0.3%\\n\\n[160]\\n\\n\\n Honduras\\n\\nCID Gallup\\n\\n2018\\n\\n17%(18%)\\n\\n75%(82%)\\n\\n8%\\n\\n\\n\\n[176]\\n\\n\\n Hungary\\n\\nIpsos\\n\\n2021\\n\\n46%(55%)\\n\\n38% [20% support some rights](45%)\\n\\n17% not sure\\n\\n±4.8%\\n\\n[161]\\n\\n\\n Iceland\\n\\nGallup\\n\\n2006\\n\\n89%\\n\\n11%\\n\\n–\\n\\n\\n\\n[177]\\n\\n\\n India\\n\\nIpsos\\n\\n2021\\n\\n44%(58%)\\n\\n32% [14% support some rights](42%)\\n\\n25% not sure\\n\\n±4.8% [p]\\n\\n[161]\\n\\n\\nMood of the Nation\\n\\n2019\\n\\n24%(28%)\\n\\n62%(72%)\\n\\n14%\\n\\n\\n\\n[178][179]\\n\\n\\n Ireland\\n\\nEurobarometer\\n\\n2019\\n\\n79%(86%)\\n\\n13%(14%)\\n\\n8%\\n\\n\\n\\n[165]\\n\\n\\n Israel\\n\\nHiddush\\n\\n2019\\n\\n55%\\n\\n45%[180]\\n\\n–\\n\\n±4.5%\\n\\n[181]\\n\\n\\n Italy\\n\\nIpsos\\n\\n2021\\n\\n63%(68%)\\n\\n30% [20% support some rights](32%)\\n\\n7% not sure\\n\\n±3.5%\\n\\n[161]\\n\\n\\n Jamaica\\n\\nAmericasBarometer\\n\\n2017\\n\\n16%\\n\\n84%\\n\\n–\\n\\n±1.0%\\n\\n[160]\\n\\n\\n Japan\\n\\nKyodo News\\n\\n2023\\n\\n64%(72%)\\n\\n25%(28%)\\n\\n11%\\n\\n\\n\\n[182]\\n\\n\\nAsahi Shimbun\\n\\n2023\\n\\n72%(80%)\\n\\n18%(20%)\\n\\n10%\\n\\n\\n\\n[183]\\n\\n\\nIpsos\\n\\n2021\\n\\n40%(53%)\\n\\n35% [29% support some rights](47%)\\n\\n25% not sure\\n\\n±3.5%\\n\\n[161]\\n\\n\\n Kazakhstan\\n\\nPew Research Center\\n\\n2016\\n\\n7%(7%)\\n\\n89%(93%)\\n\\n4%\\n\\n\\n\\n[162][163]\\n\\n\\n Latvia\\n\\nEurobarometer\\n\\n2019\\n\\n24%(26%)\\n\\n70%(74%)\\n\\n6%\\n\\n\\n\\n[165]\\n\\n\\n Liechtenstein\\n\\nLiechtenstein Institut\\n\\n2021\\n\\n72%\\n\\n28%\\n\\n0%\\n\\n\\n\\n[184]\\n\\n\\n Lithuania\\n\\nEurobarometer\\n\\n2019\\n\\n30%(32%)\\n\\n63%(68%)\\n\\n7%\\n\\n\\n\\n[165]\\n\\n\\n Luxembourg\\n\\nEurobarometer\\n\\n2019\\n\\n85%(90%)\\n\\n9%(10%)\\n\\n6%\\n\\n\\n\\n[165]\\n\\n\\n\\n Malaysia\\n\\n\\nIpsos\\n\\n2021\\n\\n8%(10%)\\n\\n73% [8% support some rights](90%)\\n\\n19% not sure\\n\\n±4.8% [p]\\n\\n[161]\\n\\n\\n Malta\\n\\nEurobarometer\\n\\n2019\\n\\n67%(73%)\\n\\n25%(27%)\\n\\n8%\\n\\n\\n\\n[165]\\n\\n\\n Mexico\\n\\nIpsos\\n\\n2021\\n\\n63%(73%)\\n\\n23% [13% support some rights](27%)\\n\\n14% not sure\\n\\n±4.8% [p]\\n\\n[161]\\n\\n\\n Moldova\\n\\nPew Research Center\\n\\n2015\\n\\n5%(5%)\\n\\n92%(95%)\\n\\n3%\\n\\n±4%\\n\\n[162][163]\\n\\n\\n Mozambique (3 cities)\\n\\nLambda\\n\\n2017\\n\\n28%(32%)\\n\\n60%(68%)\\n\\n12%\\n\\n\\n\\n[185]\\n\\n\\n Netherlands\\n\\nIpsos\\n\\n2021\\n\\n84%(90%)\\n\\n9% [6% support some rights](10%)\\n\\n8% not sure\\n\\n±4.8%\\n\\n[161]\\n\\n\\n New Zealand\\n\\nColmar Brunton\\n\\n2012\\n\\n63%(66%)\\n\\n31%(33%)\\n\\n5%\\n\\n\\n\\n[186]\\n\\n\\nHerald DigiPoll\\n\\n2013\\n\\n50%?\\n\\n48%\\n\\n2%?\\n\\n±3.6%\\n\\n[187]\\n\\n\\n Nicaragua\\n\\nAmericasBarometer\\n\\n2017\\n\\n25%\\n\\n75%\\n\\n–\\n\\n±1.0%\\n\\n[160]\\n\\n\\n Norway\\n\\nPew Research Center\\n\\n2017\\n\\n72%(79%)\\n\\n19%(21%)\\n\\n9%\\n\\n\\n\\n[162][163]\\n\\n\\n Panama\\n\\nAmericasBarometer\\n\\n2017\\n\\n22%\\n\\n78%\\n\\n–\\n\\n±1.1%\\n\\n[160]\\n\\n\\n Paraguay\\n\\nAmericasBarometer\\n\\n2017\\n\\n26%\\n\\n74%\\n\\n–\\n\\n±0.9%\\n\\n[160]\\n\\n\\n Peru\\n\\nIpsos\\n\\n2021\\n\\n35%(41%)\\n\\n51% [33% support some rights](59%)\\n\\n14% not sure\\n\\n±4.8% [p]\\n\\n[161]\\n\\n\\n Philippines\\n\\nSWS\\n\\n2018\\n\\n22%(26%)\\n\\n61%(73%)\\n\\n16%\\n\\n\\n\\n[188]\\n\\n\\n Poland\\n\\nIpsos\\n\\n2022\\n\\n48%(50%)\\n\\n47% [10% support civil unions](49%)\\n\\n4% not sure\\n\\n\\n\\n[189]\\n\\n\\nIpsos\\n\\n2021\\n\\n29%(33%)\\n\\n60% [38% support some rights](67%)\\n\\n12% not sure\\n\\n±4.8%\\n\\n[161]\\n\\n\\n Portugal\\n\\nEurobarometer\\n\\n2019\\n\\n74%(79%)\\n\\n20%(21%)\\n\\n6%\\n\\n\\n\\n[165]\\n\\n\\n Romania\\n\\nACCEPT Romania\\n\\n2021\\n\\n26%\\n\\n74% [17% support legal protection]\\n\\n\\n\\n±3%\\n\\n[190]\\n\\n\\n Russia\\n\\nIpsos\\n\\n2021\\n\\n17%(21%)\\n\\n64% [12% support some rights](79%)\\n\\n20% not sure\\n\\n±4.8% [p]\\n\\n[161]\\n\\n\\nFOM\\n\\n2019\\n\\n7%(8%)\\n\\n85%(92%)\\n\\n8%\\n\\n±3.6%\\n\\n[191]\\n\\n\\n Saint Kitts and Nevis\\n\\nAmericasBarometer\\n\\n2017\\n\\n9%\\n\\n91%\\n\\n–\\n\\n±1.0%\\n\\n[160]\\n\\n\\n Saint Lucia\\n\\nAmericasBarometer\\n\\n2017\\n\\n11%\\n\\n89%\\n\\n–\\n\\n±0.9%\\n\\n[160]\\n\\n\\n Saint Vincent and the Grenadines\\n\\nAmericasBarometer\\n\\n2017\\n\\n4%\\n\\n96%\\n\\n–\\n\\n±0.6%\\n\\n[160]\\n\\n\\n Serbia\\n\\nPew Research Center\\n\\n2015\\n\\n12%(13%)\\n\\n83%(87%)\\n\\n5%\\n\\n±4%\\n\\n[162][163]\\n\\n\\n Singapore\\n\\nIPS\\n\\n2019\\n\\n27%(31%)\\n\\n60%(69%)\\n\\n13%\\n\\n\\n\\n[192]\\n\\n\\n Slovakia\\n\\nIpsos\\n\\n2022\\n\\n32%(36%)\\n\\n56%(64%)\\n\\n13%\\n\\n\\n\\n[193]\\n\\n\\n Slovenia\\n\\nEurobarometer\\n\\n2019\\n\\n62%(64%)\\n\\n35%(36%)\\n\\n3%\\n\\n\\n\\n[165]\\n\\n\\n South Africa\\n\\nIpsos\\n\\n2021\\n\\n59%(69%)\\n\\n27% [12% support some rights](31%)\\n\\n14% not sure\\n\\n±4.8% [p]\\n\\n[161]\\n\\n\\n South Korea\\n\\nIpsos\\n\\n2021\\n\\n36%(45%)\\n\\n44% [18% support some rights](55%)\\n\\n20% not sure\\n\\n±4.8%\\n\\n[161]\\n\\n\\n Spain\\n\\nIpsos\\n\\n2021\\n\\n76%(85%)\\n\\n13% [8% support some rights](15%)\\n\\n11% not sure\\n\\n±3.5%\\n\\n[161]\\n\\n\\n Suriname\\n\\nAmericasBarometer\\n\\n2014\\n\\n18%\\n\\n–\\n\\n–\\n\\n\\n\\n[166]\\n\\n\\n Sweden\\n\\nIpsos\\n\\n2021\\n\\n79%(86%)\\n\\n13% [10% support some rights](14%)\\n\\n8% not sure\\n\\n±4.8%\\n\\n[161]\\n\\n\\n Switzerland\\n\\ngfs-zürich\\n\\n2020\\n\\n82%(83%)\\n\\n17%(17%)\\n\\n1%\\n\\n±3.2%\\n\\n[194]\\n\\n\\n Taiwan\\n\\nDepartment of Gender Quality (DGE)\\n\\n2021\\n\\n60%\\n\\n\\n\\n\\n\\n\\n\\n[195]\\n\\n\\n Thailand\\n\\nNIDA Poll\\n\\n2015\\n\\n59%(63%)\\n\\n35%(37%)\\n\\n6%\\n\\n\\n\\n[196]\\n\\n\\n Trinidad and Tobago\\n\\nAmericasBarometer\\n\\n2014\\n\\n16%\\n\\n–\\n\\n–\\n\\n\\n\\n[166]\\n\\n\\n Turkey\\n\\nIpsos\\n\\n2021\\n\\n24%(35%)\\n\\n45% [20% support some rights](65%)\\n\\n32% not sure\\n\\n±4.8% [p]\\n\\n[161]\\n\\n\\n Ukraine\\n\\nKyiv International Institute of Sociology\\n\\n2022\\n\\n27%(39%)\\n\\n42% (61%)\\n\\n31%\\n\\n±2.4%\\n\\n[197]\\n\\n\\n United Kingdom\\n\\nYouGov\\n\\n2023\\n\\n77% (84%)\\n\\n15% (16%)\\n\\n8%\\n\\n\\n\\n[198]\\n\\n\\nIpsos\\n\\n2021\\n\\n68%(76%)\\n\\n21% [14% support some rights](24%)\\n\\n11% not sure\\n\\n±3.5%\\n\\n[161]\\n\\n\\n United States\\n\\nCiviqs\\n\\n2023\\n\\n68% (74%)\\n\\n24% (26%)\\n\\n8% not sure\\n\\n\\n\\n[199]\\n\\n\\nMarquette\\n\\n2022\\n\\n72%\\n\\n28%\\n\\n–\\n\\n\\n\\n[200]\\n\\n\\nGrinnell\\n\\n2022\\n\\n74% (83%)\\n\\n13% (17%)\\n\\n13% not sure\\n\\n\\n\\n[201][202]\\n\\n\\nGallup\\n\\n2022\\n\\n71%(72%)\\n\\n28%(28%)\\n\\n1%\\n\\n±4%\\n\\n[203]\\n\\n\\nQuinnipiac\\n\\n2022\\n\\n68%(77%)\\n\\n22%(23%)\\n\\n10%\\n\\n\\n\\n[204]\\n\\n\\nIpsos\\n\\n2021\\n\\n59%(68%)\\n\\n28% [13% support some rights](32%)\\n\\n13% not sure\\n\\n±3.5%\\n\\n[161]\\n\\n\\n Uruguay\\n\\nAmericasBarometer\\n\\n2017\\n\\n75%\\n\\n25%\\n\\n–\\n\\n±1.1%\\n\\n[160]\\n\\n\\n Venezuela\\n\\nAmericasBarometer\\n\\n2017\\n\\n39%\\n\\n61%\\n\\n–\\n\\n±1.2%\\n\\n[160]\\n\\n\\n Vietnam\\n\\nThe iSEE Institute\\n\\n2014\\n\\n34%(39%)\\n\\n53%(61%)\\n\\n13%\\n\\n\\n\\n[205]\\n\"]\n"
     ]
    }
   ],
   "source": [
    "wiki_url = 'https://en.wikipedia.org/wiki/Same-sex_marriage#Public_opinion'\n",
    "table_name = \"wikitable sortable\"\n",
    "\n",
    "response = requests.get(wiki_url)\n",
    "soup = BeautifulSoup(response.text, 'html.parser')\n",
    "\n",
    "marry_raw_data = []\n",
    "\n",
    "marry_table = soup.find_all('table', {'class': table_name})\n",
    "# print(marry_table) \\\n",
    "\n",
    "\n",
    "for row in marry_table: \n",
    "    line = row.text\n",
    "    marry_raw_data.append(line)\n",
    "    \n",
    "print(marry_raw_data)\n",
    "\n",
    "\n"
   ]
  },
  {
   "cell_type": "markdown",
   "id": "ecb7bced",
   "metadata": {},
   "source": [
    "# WHAT DO I DO AFTER THIS???\n",
    "\n",
    "step 3.2 will not work"
   ]
  },
  {
   "cell_type": "code",
   "execution_count": 169,
   "id": "4f0ef907",
   "metadata": {},
   "outputs": [
    {
     "name": "stdout",
     "output_type": "stream",
     "text": [
      "[{'Country': '', 'Pollster': '', 'Year': '', 'For[n]': '', 'Against[n]': '', 'Neither[o]': '', 'Marginof error': '', 'Source': ''}]\n"
     ]
    }
   ],
   "source": [
    "column_names = [\"Country\", \"Pollster\", \"Year\", \"For[n]\", \"Against[n]\",  \"Neither[o]\", \"Marginof error\", \"Source\"]\n",
    "\n",
    "final_data = []\n",
    "\n",
    "for l in marry_raw_data:\n",
    "    entries = l.split(\"\\n\")\n",
    "    row = {} # empty dictionary for every row\n",
    "    for entry in entries:\n",
    "        for column_name in column_names:\n",
    "            if column_name in entry:\n",
    "                entry = entry.replace(column_name,\"\")\n",
    "                row[column_name] = entry\n",
    "                break # stops the inner loop here because we already find a match\n",
    "    final_data.append(row)\n",
    "\n",
    "# Sanity check - let's print the first 5 rows\n",
    "print(final_data)"
   ]
  },
  {
   "cell_type": "markdown",
   "id": "0d4e8aeb",
   "metadata": {},
   "source": [
    "## Step 2: Data Transformation and Load"
   ]
  },
  {
   "cell_type": "code",
   "execution_count": 170,
   "id": "b4d00b27",
   "metadata": {
    "scrolled": true
   },
   "outputs": [
    {
     "data": {
      "text/plain": [
       "[                              Country                                   Pollster       Year      For[n]  \\\n",
       " 0                             Andorra               Institut d'Estudis Andorrans       2013   70% (79%)   \n",
       " 1                 Antigua and Barbuda                          AmericasBarometer       2017         12%   \n",
       " 2                           Argentina                                      Ipsos       2021   73% (79%)   \n",
       " 3                             Armenia                        Pew Research Center       2015     3% (3%)   \n",
       " 4                               Aruba                                        NaN       2021         46%   \n",
       " 5                           Australia                                      Ipsos       2021   62% (70%)   \n",
       " 6                             Austria                              Eurobarometer       2019   66% (69%)   \n",
       " 7                             Bahamas                          AmericasBarometer       2015         11%   \n",
       " 8                             Belarus                        Pew Research Center       2015   16% (16%)   \n",
       " 9                             Belgium                                      Ipsos       2021   72% (79%)   \n",
       " 10                             Belize                          AmericasBarometer       2014          8%   \n",
       " 11                            Bolivia                          AmericasBarometer       2017         35%   \n",
       " 12             Bosnia and Herzegovina                        Pew Research Center  2015–2016   13% (14%)   \n",
       " 13                             Brazil                                      Ipsos       2021   55% (63%)   \n",
       " 14                           Bulgaria                              Eurobarometer       2019   16% (18%)   \n",
       " 15                           Cambodia                               TNS Cambodia       2015   55% (65%)   \n",
       " 16                             Canada                                      Ipsos       2021   75% (85%)   \n",
       " 17                              Chile                        Plaza Pública-Cadem       2022         82%   \n",
       " 18                              Chile                                      Ipsos       2021   65% (72%)   \n",
       " 19                              China                                      Ipsos       2021   43% (52%)   \n",
       " 20                           Colombia                               INVAMER-POLL       2022         48%   \n",
       " 21                         Costa Rica                          AmericasBarometer       2017         35%   \n",
       " 22                            Croatia                              Eurobarometer       2019   39% (41%)   \n",
       " 23                               Cuba                                  Apretaste       2019         63%   \n",
       " 24                             Cyprus                              Eurobarometer       2019   36% (38%)   \n",
       " 25                     Czech Republic                              Median agency       2019         67%   \n",
       " 26                            Denmark                              Eurobarometer       2019   89% (92%)   \n",
       " 27                           Dominica                          AmericasBarometer       2017         10%   \n",
       " 28                 Dominican Republic                          AmericasBarometer       2016         27%   \n",
       " 29                            Ecuador                          AmericasBarometer       2019   23% (31%)   \n",
       " 30                        El Salvador              Universidad Francisco Gavidia       2021         NaN   \n",
       " 31                            Estonia                              Eurobarometer       2019   41% (45%)   \n",
       " 32                            Finland                              Eurobarometer       2019   76% (78%)   \n",
       " 33                             France                                      Ipsos       2021   59% (73%)   \n",
       " 34                             France                              Eurobarometer       2019   79% (84%)   \n",
       " 35                            Georgia       Women’s Initiatives Supporting Group       2021   10% (12%)   \n",
       " 36                            Germany                                      Ipsos       2021   68% (75%)   \n",
       " 37                            Germany                              Eurobarometer       2019   84% (88%)   \n",
       " 38                             Greece                              Kapa Research       2020   56% (58%)   \n",
       " 39                            Grenada                          AmericasBarometer       2017         12%   \n",
       " 40                          Guatemala                          AmericasBarometer       2017         23%   \n",
       " 41                             Guyana                          AmericasBarometer       2017         21%   \n",
       " 42                              Haiti                          AmericasBarometer       2017          5%   \n",
       " 43                           Honduras                                 CID Gallup       2018   17% (18%)   \n",
       " 44                            Hungary                                      Ipsos       2021   46% (55%)   \n",
       " 45                            Iceland                                     Gallup       2006         89%   \n",
       " 46                              India                                      Ipsos       2021   44% (58%)   \n",
       " 47                              India                         Mood of the Nation       2019   24% (28%)   \n",
       " 48                            Ireland                              Eurobarometer       2019   79% (86%)   \n",
       " 49                             Israel                                    Hiddush       2019         55%   \n",
       " 50                              Italy                                      Ipsos       2021   63% (68%)   \n",
       " 51                            Jamaica                          AmericasBarometer       2017         16%   \n",
       " 52                              Japan                                 Kyodo News       2023   64% (72%)   \n",
       " 53                              Japan                              Asahi Shimbun       2023   72% (80%)   \n",
       " 54                              Japan                                      Ipsos       2021   40% (53%)   \n",
       " 55                         Kazakhstan                        Pew Research Center       2016     7% (7%)   \n",
       " 56                             Latvia                              Eurobarometer       2019   24% (26%)   \n",
       " 57                      Liechtenstein                     Liechtenstein Institut       2021         72%   \n",
       " 58                          Lithuania                              Eurobarometer       2019   30% (32%)   \n",
       " 59                         Luxembourg                              Eurobarometer       2019   85% (90%)   \n",
       " 60                           Malaysia                                      Ipsos       2021    8% (10%)   \n",
       " 61                              Malta                              Eurobarometer       2019   67% (73%)   \n",
       " 62                             Mexico                                      Ipsos       2021   63% (73%)   \n",
       " 63                            Moldova                        Pew Research Center       2015     5% (5%)   \n",
       " 64              Mozambique (3 cities)                                     Lambda       2017   28% (32%)   \n",
       " 65                        Netherlands                                      Ipsos       2021   84% (90%)   \n",
       " 66                        New Zealand                             Colmar Brunton       2012   63% (66%)   \n",
       " 67                        New Zealand                            Herald DigiPoll       2013        50%?   \n",
       " 68                          Nicaragua                          AmericasBarometer       2017         25%   \n",
       " 69                             Norway                        Pew Research Center       2017   72% (79%)   \n",
       " 70                             Panama                          AmericasBarometer       2017         22%   \n",
       " 71                           Paraguay                          AmericasBarometer       2017         26%   \n",
       " 72                               Peru                                      Ipsos       2021   35% (41%)   \n",
       " 73                        Philippines                                        SWS       2018   22% (26%)   \n",
       " 74                             Poland                                      Ipsos       2022   48% (50%)   \n",
       " 75                             Poland                                      Ipsos       2021   29% (33%)   \n",
       " 76                           Portugal                              Eurobarometer       2019   74% (79%)   \n",
       " 77                            Romania                             ACCEPT Romania       2021         26%   \n",
       " 78                             Russia                                      Ipsos       2021   17% (21%)   \n",
       " 79                             Russia                                        FOM       2019     7% (8%)   \n",
       " 80              Saint Kitts and Nevis                          AmericasBarometer       2017          9%   \n",
       " 81                        Saint Lucia                          AmericasBarometer       2017         11%   \n",
       " 82   Saint Vincent and the Grenadines                          AmericasBarometer       2017          4%   \n",
       " 83                             Serbia                        Pew Research Center       2015   12% (13%)   \n",
       " 84                          Singapore                                        IPS       2019   27% (31%)   \n",
       " 85                           Slovakia                                      Ipsos       2022   32% (36%)   \n",
       " 86                           Slovenia                              Eurobarometer       2019   62% (64%)   \n",
       " 87                       South Africa                                      Ipsos       2021   59% (69%)   \n",
       " 88                        South Korea                                      Ipsos       2021   36% (45%)   \n",
       " 89                              Spain                                      Ipsos       2021   76% (85%)   \n",
       " 90                           Suriname                          AmericasBarometer       2014         18%   \n",
       " 91                             Sweden                                      Ipsos       2021   79% (86%)   \n",
       " 92                        Switzerland                                 gfs-zürich       2020   82% (83%)   \n",
       " 93                             Taiwan         Department of Gender Quality (DGE)       2021         60%   \n",
       " 94                           Thailand                                  NIDA Poll       2015   59% (63%)   \n",
       " 95                Trinidad and Tobago                          AmericasBarometer       2014         16%   \n",
       " 96                             Turkey                                      Ipsos       2021   24% (35%)   \n",
       " 97                            Ukraine  Kyiv International Institute of Sociology       2022   27% (39%)   \n",
       " 98                     United Kingdom                                     YouGov       2023  77%  (84%)   \n",
       " 99                     United Kingdom                                      Ipsos       2021   68% (76%)   \n",
       " 100                     United States                                     Civiqs       2023  68%  (74%)   \n",
       " 101                     United States                                  Marquette       2022         72%   \n",
       " 102                     United States                                   Grinnell       2022  74%  (83%)   \n",
       " 103                     United States                                     Gallup       2022   71% (72%)   \n",
       " 104                     United States                                 Quinnipiac       2022   68% (77%)   \n",
       " 105                     United States                                      Ipsos       2021   59% (68%)   \n",
       " 106                           Uruguay                          AmericasBarometer       2017         75%   \n",
       " 107                         Venezuela                          AmericasBarometer       2017         39%   \n",
       " 108                           Vietnam                         The iSEE Institute       2014   34% (39%)   \n",
       " \n",
       "                                Against[n]    Neither[o] Margin of error      Source  \n",
       " 0                               19% (21%)           11%             NaN       [159]  \n",
       " 1                                       –             –             NaN       [160]  \n",
       " 2      19% [9% support some rights] (21%)   9% not sure           ±4.8%       [161]  \n",
       " 3                               96% (97%)            1%             ±3%  [162][163]  \n",
       " 4                                     NaN           NaN             NaN       [164]  \n",
       " 5     27% [14% support some rights] (30%)  11% not sure           ±3.5%       [161]  \n",
       " 6                               30% (31%)            4%             NaN       [165]  \n",
       " 7                                       –             –             NaN       [166]  \n",
       " 8                               81% (84%)            3%             ±4%  [162][163]  \n",
       " 9     19% [12% support some rights] (21%)  10% not sure           ±3.5%       [161]  \n",
       " 10                                      –             –             NaN       [166]  \n",
       " 11                                    65%             –           ±1.0%       [160]  \n",
       " 12                              84% (87%)            4%             ±4%  [162][163]  \n",
       " 13    32% [14% support some rights] (37%)  14% not sure       ±3.5% [p]       [161]  \n",
       " 14                              74% (82%)           10%             NaN       [165]  \n",
       " 15                              30% (35%)           15%             NaN       [167]  \n",
       " 16     15% [7% support some rights] (15%)  10% not sure           ±3.5%       [161]  \n",
       " 17                                    16%            2%           ±3.7%       [168]  \n",
       " 18    25% [17% support some rights] (28%)  11% not sure       ±4.8% [p]       [161]  \n",
       " 19    39% [20% support some rights] (48%)  18% not sure       ±3.5% [p]       [161]  \n",
       " 20                                    46%            6%             NaN       [169]  \n",
       " 21                                    65%             –           ±1.2%       [166]  \n",
       " 22                              55% (59%)            6%             NaN       [165]  \n",
       " 23                                    37%             –             NaN       [170]  \n",
       " 24                              60% (62%)            4%             NaN       [165]  \n",
       " 25                                      –             –             NaN       [171]  \n",
       " 26                                8% (8%)            3%             NaN       [165]  \n",
       " 27                                    90%             –           ±1.1%       [160]  \n",
       " 28                                    73%             –           ±1.0%       [160]  \n",
       " 29                              51% (69%)           26%             NaN       [172]  \n",
       " 30                                  82.5%             –             NaN       [173]  \n",
       " 31                              51% (55%)            8%             NaN       [165]  \n",
       " 32                              21% (22%)            3%             NaN       [165]  \n",
       " 33    22% [15% support some rights] (27%)  19% not sure           ±3.5%       [161]  \n",
       " 34                              15% (16%)            6%             NaN       [165]  \n",
       " 35                              75% (88%)           15%             NaN       [174]  \n",
       " 36    23% [13% support some rights] (25%)   9% not sure           ±3.5%       [161]  \n",
       " 37                              12% (12%)            4%             NaN       [165]  \n",
       " 38                              40% (42%)            4%             ±3%       [175]  \n",
       " 39                                    88%             –           ±1.4%       [160]  \n",
       " 40                                    77%             –           ±1.1%       [160]  \n",
       " 41                                    79%             –           ±1.3%       [166]  \n",
       " 42                                    95%             –           ±0.3%       [160]  \n",
       " 43                              75% (82%)            8%             NaN       [176]  \n",
       " 44    38% [20% support some rights] (45%)  17% not sure           ±4.8%       [161]  \n",
       " 45                                    11%             –             NaN       [177]  \n",
       " 46    32% [14% support some rights] (42%)  25% not sure       ±4.8% [p]       [161]  \n",
       " 47                              62% (72%)           14%             NaN  [178][179]  \n",
       " 48                              13% (14%)            8%             NaN       [165]  \n",
       " 49                               45%[180]             –           ±4.5%       [181]  \n",
       " 50    30% [20% support some rights] (32%)   7% not sure           ±3.5%       [161]  \n",
       " 51                                    84%             –           ±1.0%       [160]  \n",
       " 52                              25% (28%)           11%             NaN       [182]  \n",
       " 53                              18% (20%)           10%             NaN       [183]  \n",
       " 54    35% [29% support some rights] (47%)  25% not sure           ±3.5%       [161]  \n",
       " 55                              89% (93%)            4%             NaN  [162][163]  \n",
       " 56                              70% (74%)            6%             NaN       [165]  \n",
       " 57                                    28%            0%             NaN       [184]  \n",
       " 58                              63% (68%)            7%             NaN       [165]  \n",
       " 59                               9% (10%)            6%             NaN       [165]  \n",
       " 60     73% [8% support some rights] (90%)  19% not sure       ±4.8% [p]       [161]  \n",
       " 61                              25% (27%)            8%             NaN       [165]  \n",
       " 62    23% [13% support some rights] (27%)  14% not sure       ±4.8% [p]       [161]  \n",
       " 63                              92% (95%)            3%             ±4%  [162][163]  \n",
       " 64                              60% (68%)           12%             NaN       [185]  \n",
       " 65      9% [6% support some rights] (10%)   8% not sure           ±4.8%       [161]  \n",
       " 66                              31% (33%)            5%             NaN       [186]  \n",
       " 67                                    48%           2%?           ±3.6%       [187]  \n",
       " 68                                    75%             –           ±1.0%       [160]  \n",
       " 69                              19% (21%)            9%             NaN  [162][163]  \n",
       " 70                                    78%             –           ±1.1%       [160]  \n",
       " 71                                    74%             –           ±0.9%       [160]  \n",
       " 72    51% [33% support some rights] (59%)  14% not sure       ±4.8% [p]       [161]  \n",
       " 73                              61% (73%)           16%             NaN       [188]  \n",
       " 74   47% [10% support civil unions] (49%)   4% not sure             NaN       [189]  \n",
       " 75    60% [38% support some rights] (67%)  12% not sure           ±4.8%       [161]  \n",
       " 76                              20% (21%)            6%             NaN       [165]  \n",
       " 77     74% [17% support legal protection]           NaN             ±3%       [190]  \n",
       " 78    64% [12% support some rights] (79%)  20% not sure       ±4.8% [p]       [161]  \n",
       " 79                              85% (92%)            8%           ±3.6%       [191]  \n",
       " 80                                    91%             –           ±1.0%       [160]  \n",
       " 81                                    89%             –           ±0.9%       [160]  \n",
       " 82                                    96%             –           ±0.6%       [160]  \n",
       " 83                              83% (87%)            5%             ±4%  [162][163]  \n",
       " 84                              60% (69%)           13%             NaN       [192]  \n",
       " 85                              56% (64%)           13%             NaN       [193]  \n",
       " 86                              35% (36%)            3%             NaN       [165]  \n",
       " 87    27% [12% support some rights] (31%)  14% not sure       ±4.8% [p]       [161]  \n",
       " 88    44% [18% support some rights] (55%)  20% not sure           ±4.8%       [161]  \n",
       " 89     13% [8% support some rights] (15%)  11% not sure           ±3.5%       [161]  \n",
       " 90                                      –             –             NaN       [166]  \n",
       " 91    13% [10% support some rights] (14%)   8% not sure           ±4.8%       [161]  \n",
       " 92                              17% (17%)            1%           ±3.2%       [194]  \n",
       " 93                                    NaN           NaN             NaN       [195]  \n",
       " 94                              35% (37%)            6%             NaN       [196]  \n",
       " 95                                      –             –             NaN       [166]  \n",
       " 96    45% [20% support some rights] (65%)  32% not sure       ±4.8% [p]       [161]  \n",
       " 97                              42% (61%)           31%           ±2.4%       [197]  \n",
       " 98                             15%  (16%)            8%             NaN       [198]  \n",
       " 99    21% [14% support some rights] (24%)  11% not sure           ±3.5%       [161]  \n",
       " 100                            24%  (26%)   8% not sure             NaN       [199]  \n",
       " 101                                   28%             –             NaN       [200]  \n",
       " 102                            13%  (17%)  13% not sure             NaN  [201][202]  \n",
       " 103                             28% (28%)            1%             ±4%       [203]  \n",
       " 104                             22% (23%)           10%             NaN       [204]  \n",
       " 105   28% [13% support some rights] (32%)  13% not sure           ±3.5%       [161]  \n",
       " 106                                   25%             –           ±1.1%       [160]  \n",
       " 107                                   61%             –           ±1.2%       [160]  \n",
       " 108                             53% (61%)           13%             NaN       [205]  ]"
      ]
     },
     "metadata": {},
     "output_type": "display_data"
    },
    {
     "ename": "ValueError",
     "evalue": "Must pass 2-d input. shape=(1, 109, 8)",
     "output_type": "error",
     "traceback": [
      "\u001b[1;31m---------------------------------------------------------------------------\u001b[0m",
      "\u001b[1;31mValueError\u001b[0m                                Traceback (most recent call last)",
      "Cell \u001b[1;32mIn[170], line 13\u001b[0m\n\u001b[0;32m      4\u001b[0m \u001b[38;5;66;03m# pandas.set_option('display.max_columns', 100)\u001b[39;00m\n\u001b[0;32m      5\u001b[0m \u001b[38;5;66;03m# pandas.set_option('display.max_rows', 500)\u001b[39;00m\n\u001b[0;32m      6\u001b[0m \u001b[38;5;66;03m# pandas.set_option('display.min_rows', 500)\u001b[39;00m\n\u001b[0;32m      7\u001b[0m \u001b[38;5;66;03m# # pandas.set_option('display.width', 120)\u001b[39;00m\n\u001b[0;32m      8\u001b[0m \u001b[38;5;66;03m# pandas.set_option('expand_frame_repr', True)\u001b[39;00m\n\u001b[0;32m      9\u001b[0m \u001b[38;5;66;03m#print(df)\u001b[39;00m\n\u001b[0;32m     11\u001b[0m display(final_data) \u001b[38;5;66;03m# width adjust accordingly on jupiter notebook\u001b[39;00m\n\u001b[1;32m---> 13\u001b[0m \u001b[43mpandas\u001b[49m\u001b[38;5;241;43m.\u001b[39;49m\u001b[43mDataFrame\u001b[49m\u001b[43m(\u001b[49m\u001b[43mfinal_data\u001b[49m\u001b[43m)\u001b[49m\n",
      "File \u001b[1;32m~\\anaconda3\\envs\\introDS\\lib\\site-packages\\pandas\\core\\frame.py:762\u001b[0m, in \u001b[0;36mDataFrame.__init__\u001b[1;34m(self, data, index, columns, dtype, copy)\u001b[0m\n\u001b[0;32m    754\u001b[0m         mgr \u001b[38;5;241m=\u001b[39m arrays_to_mgr(\n\u001b[0;32m    755\u001b[0m             arrays,\n\u001b[0;32m    756\u001b[0m             columns,\n\u001b[1;32m   (...)\u001b[0m\n\u001b[0;32m    759\u001b[0m             typ\u001b[38;5;241m=\u001b[39mmanager,\n\u001b[0;32m    760\u001b[0m         )\n\u001b[0;32m    761\u001b[0m     \u001b[38;5;28;01melse\u001b[39;00m:\n\u001b[1;32m--> 762\u001b[0m         mgr \u001b[38;5;241m=\u001b[39m \u001b[43mndarray_to_mgr\u001b[49m\u001b[43m(\u001b[49m\n\u001b[0;32m    763\u001b[0m \u001b[43m            \u001b[49m\u001b[43mdata\u001b[49m\u001b[43m,\u001b[49m\n\u001b[0;32m    764\u001b[0m \u001b[43m            \u001b[49m\u001b[43mindex\u001b[49m\u001b[43m,\u001b[49m\n\u001b[0;32m    765\u001b[0m \u001b[43m            \u001b[49m\u001b[43mcolumns\u001b[49m\u001b[43m,\u001b[49m\n\u001b[0;32m    766\u001b[0m \u001b[43m            \u001b[49m\u001b[43mdtype\u001b[49m\u001b[38;5;241;43m=\u001b[39;49m\u001b[43mdtype\u001b[49m\u001b[43m,\u001b[49m\n\u001b[0;32m    767\u001b[0m \u001b[43m            \u001b[49m\u001b[43mcopy\u001b[49m\u001b[38;5;241;43m=\u001b[39;49m\u001b[43mcopy\u001b[49m\u001b[43m,\u001b[49m\n\u001b[0;32m    768\u001b[0m \u001b[43m            \u001b[49m\u001b[43mtyp\u001b[49m\u001b[38;5;241;43m=\u001b[39;49m\u001b[43mmanager\u001b[49m\u001b[43m,\u001b[49m\n\u001b[0;32m    769\u001b[0m \u001b[43m        \u001b[49m\u001b[43m)\u001b[49m\n\u001b[0;32m    770\u001b[0m \u001b[38;5;28;01melse\u001b[39;00m:\n\u001b[0;32m    771\u001b[0m     mgr \u001b[38;5;241m=\u001b[39m dict_to_mgr(\n\u001b[0;32m    772\u001b[0m         {},\n\u001b[0;32m    773\u001b[0m         index,\n\u001b[1;32m   (...)\u001b[0m\n\u001b[0;32m    776\u001b[0m         typ\u001b[38;5;241m=\u001b[39mmanager,\n\u001b[0;32m    777\u001b[0m     )\n",
      "File \u001b[1;32m~\\anaconda3\\envs\\introDS\\lib\\site-packages\\pandas\\core\\internals\\construction.py:329\u001b[0m, in \u001b[0;36mndarray_to_mgr\u001b[1;34m(values, index, columns, dtype, copy, typ)\u001b[0m\n\u001b[0;32m    324\u001b[0m         values \u001b[38;5;241m=\u001b[39m values\u001b[38;5;241m.\u001b[39mreshape(\u001b[38;5;241m-\u001b[39m\u001b[38;5;241m1\u001b[39m, \u001b[38;5;241m1\u001b[39m)\n\u001b[0;32m    326\u001b[0m \u001b[38;5;28;01melse\u001b[39;00m:\n\u001b[0;32m    327\u001b[0m     \u001b[38;5;66;03m# by definition an array here\u001b[39;00m\n\u001b[0;32m    328\u001b[0m     \u001b[38;5;66;03m# the dtypes will be coerced to a single dtype\u001b[39;00m\n\u001b[1;32m--> 329\u001b[0m     values \u001b[38;5;241m=\u001b[39m \u001b[43m_prep_ndarraylike\u001b[49m\u001b[43m(\u001b[49m\u001b[43mvalues\u001b[49m\u001b[43m,\u001b[49m\u001b[43m \u001b[49m\u001b[43mcopy\u001b[49m\u001b[38;5;241;43m=\u001b[39;49m\u001b[43mcopy_on_sanitize\u001b[49m\u001b[43m)\u001b[49m\n\u001b[0;32m    331\u001b[0m \u001b[38;5;28;01mif\u001b[39;00m dtype \u001b[38;5;129;01mis\u001b[39;00m \u001b[38;5;129;01mnot\u001b[39;00m \u001b[38;5;28;01mNone\u001b[39;00m \u001b[38;5;129;01mand\u001b[39;00m \u001b[38;5;129;01mnot\u001b[39;00m is_dtype_equal(values\u001b[38;5;241m.\u001b[39mdtype, dtype):\n\u001b[0;32m    332\u001b[0m     \u001b[38;5;66;03m# GH#40110 see similar check inside sanitize_array\u001b[39;00m\n\u001b[0;32m    333\u001b[0m     rcf \u001b[38;5;241m=\u001b[39m \u001b[38;5;129;01mnot\u001b[39;00m (is_integer_dtype(dtype) \u001b[38;5;129;01mand\u001b[39;00m values\u001b[38;5;241m.\u001b[39mdtype\u001b[38;5;241m.\u001b[39mkind \u001b[38;5;241m==\u001b[39m \u001b[38;5;124m\"\u001b[39m\u001b[38;5;124mf\u001b[39m\u001b[38;5;124m\"\u001b[39m)\n",
      "File \u001b[1;32m~\\anaconda3\\envs\\introDS\\lib\\site-packages\\pandas\\core\\internals\\construction.py:583\u001b[0m, in \u001b[0;36m_prep_ndarraylike\u001b[1;34m(values, copy)\u001b[0m\n\u001b[0;32m    581\u001b[0m     values \u001b[38;5;241m=\u001b[39m values\u001b[38;5;241m.\u001b[39mreshape((values\u001b[38;5;241m.\u001b[39mshape[\u001b[38;5;241m0\u001b[39m], \u001b[38;5;241m1\u001b[39m))\n\u001b[0;32m    582\u001b[0m \u001b[38;5;28;01melif\u001b[39;00m values\u001b[38;5;241m.\u001b[39mndim \u001b[38;5;241m!=\u001b[39m \u001b[38;5;241m2\u001b[39m:\n\u001b[1;32m--> 583\u001b[0m     \u001b[38;5;28;01mraise\u001b[39;00m \u001b[38;5;167;01mValueError\u001b[39;00m(\u001b[38;5;124mf\u001b[39m\u001b[38;5;124m\"\u001b[39m\u001b[38;5;124mMust pass 2-d input. shape=\u001b[39m\u001b[38;5;132;01m{\u001b[39;00mvalues\u001b[38;5;241m.\u001b[39mshape\u001b[38;5;132;01m}\u001b[39;00m\u001b[38;5;124m\"\u001b[39m)\n\u001b[0;32m    585\u001b[0m \u001b[38;5;28;01mreturn\u001b[39;00m values\n",
      "\u001b[1;31mValueError\u001b[0m: Must pass 2-d input. shape=(1, 109, 8)"
     ]
    }
   ],
   "source": [
    "final_data = pandas.read_html(str(marry_table))\n",
    "\n",
    "\n",
    "# pandas.set_option('display.max_columns', 100)\n",
    "# pandas.set_option('display.max_rows', 500)\n",
    "# pandas.set_option('display.min_rows', 500)\n",
    "# # pandas.set_option('display.width', 120)\n",
    "# pandas.set_option('expand_frame_repr', True)\n",
    "#print(df)\n",
    "\n",
    "display(final_data) # width adjust accordingly on jupiter notebook\n",
    "\n",
    "# pandas.DataFrame(final_data)"
   ]
  },
  {
   "cell_type": "code",
   "execution_count": 158,
   "id": "6c862cb2",
   "metadata": {},
   "outputs": [
    {
     "ename": "TypeError",
     "evalue": "list indices must be integers or slices, not str",
     "output_type": "error",
     "traceback": [
      "\u001b[1;31m---------------------------------------------------------------------------\u001b[0m",
      "\u001b[1;31mTypeError\u001b[0m                                 Traceback (most recent call last)",
      "Cell \u001b[1;32mIn[158], line 1\u001b[0m\n\u001b[1;32m----> 1\u001b[0m hist \u001b[38;5;241m=\u001b[39m \u001b[43mfinal_data\u001b[49m\u001b[43m[\u001b[49m\u001b[38;5;124;43m\"\u001b[39;49m\u001b[38;5;124;43mFor[n]\u001b[39;49m\u001b[38;5;124;43m\"\u001b[39;49m\u001b[43m]\u001b[49m\u001b[38;5;241m.\u001b[39mhist(bins\u001b[38;5;241m=\u001b[39m\u001b[38;5;241m5\u001b[39m)\n",
      "\u001b[1;31mTypeError\u001b[0m: list indices must be integers or slices, not str"
     ]
    }
   ],
   "source": []
  },
  {
   "cell_type": "markdown",
   "id": "5df852a2",
   "metadata": {},
   "source": [
    "## Step 3: Analysis: Summary and visualizations"
   ]
  },
  {
   "cell_type": "markdown",
   "id": "71fd6f81",
   "metadata": {},
   "source": [
    "## Step 4: Documentation"
   ]
  }
 ],
 "metadata": {
  "kernelspec": {
   "display_name": "Python 3 (ipykernel)",
   "language": "python",
   "name": "python3"
  },
  "language_info": {
   "codemirror_mode": {
    "name": "ipython",
    "version": 3
   },
   "file_extension": ".py",
   "mimetype": "text/x-python",
   "name": "python",
   "nbconvert_exporter": "python",
   "pygments_lexer": "ipython3",
   "version": "3.8.16"
  }
 },
 "nbformat": 4,
 "nbformat_minor": 5
}
